{
 "cells": [
  {
   "cell_type": "markdown",
   "metadata": {
    "collapsed": true
   },
   "source": [
    "## Install packages\n",
    "\n",
    "```\n",
    "install.packages(\"rstanarm\", repos = \"https://cloud.r-project.org\", dependencies = TRUE)\n",
    "```"
   ]
  },
  {
   "cell_type": "code",
   "execution_count": 1,
   "metadata": {
    "collapsed": false
   },
   "outputs": [
    {
     "data": {
      "text/html": [
       "<ol class=list-inline>\n",
       "\t<li>38607</li>\n",
       "\t<li>7</li>\n",
       "</ol>\n"
      ],
      "text/latex": [
       "\\begin{enumerate*}\n",
       "\\item 38607\n",
       "\\item 7\n",
       "\\end{enumerate*}\n"
      ],
      "text/markdown": [
       "1. 38607\n",
       "2. 7\n",
       "\n",
       "\n"
      ],
      "text/plain": [
       "[1] 38607     7"
      ]
     },
     "metadata": {},
     "output_type": "display_data"
    }
   ],
   "source": [
    "source(\"get_data.R\", verbose = FALSE)\n",
    "Loans <- get_loans_data()\n",
    "dim(Loans)"
   ]
  },
  {
   "cell_type": "code",
   "execution_count": 2,
   "metadata": {
    "collapsed": false
   },
   "outputs": [
    {
     "data": {
      "text/plain": [
       "\n",
       "NoProblem   Problem \n",
       "     8442      1558 "
      ]
     },
     "metadata": {},
     "output_type": "display_data"
    }
   ],
   "source": [
    "training <- Loans[1:10000, ]\n",
    "testing  <- Loans[-c(1:10000), ]\n",
    "table(training$y)"
   ]
  },
  {
   "cell_type": "code",
   "execution_count": 3,
   "metadata": {
    "collapsed": false
   },
   "outputs": [
    {
     "data": {
      "text/plain": [
       "   loan_amnt       annual_inc     \n",
       " Min.   : 1000   Min.   :   6000  \n",
       " 1st Qu.: 6000   1st Qu.:  43200  \n",
       " Median :11500   Median :  60000  \n",
       " Mean   :12942   Mean   :  71084  \n",
       " 3rd Qu.:17625   3rd Qu.:  85000  \n",
       " Max.   :35000   Max.   :1782000  "
      ]
     },
     "metadata": {},
     "output_type": "display_data"
    }
   ],
   "source": [
    "summary(training[,c(\"loan_amnt\", \"annual_inc\")])"
   ]
  },
  {
   "cell_type": "code",
   "execution_count": 4,
   "metadata": {
    "collapsed": false
   },
   "outputs": [
    {
     "data": {
      "text/plain": [
       ", ,  = FALSE\n",
       "\n",
       "            home_ownership\n",
       "term         MORTGAGE NONE OTHER  OWN RENT\n",
       "   36 months      173    0     0   45  469\n",
       "   60 months       97    0     0   15  141\n",
       "\n",
       ", ,  = TRUE\n",
       "\n",
       "            home_ownership\n",
       "term         MORTGAGE NONE OTHER  OWN RENT\n",
       "   36 months     2642    0     0  427 2861\n",
       "   60 months     1727    0     0  216 1187\n"
      ]
     },
     "metadata": {},
     "output_type": "display_data"
    }
   ],
   "source": [
    "with(training, table(term, home_ownership, emp_length != 0))"
   ]
  },
  {
   "cell_type": "markdown",
   "metadata": {},
   "source": [
    "## Use rstanarm"
   ]
  },
  {
   "cell_type": "code",
   "execution_count": 5,
   "metadata": {
    "collapsed": false
   },
   "outputs": [
    {
     "name": "stderr",
     "output_type": "stream",
     "text": [
      "Loading required package: Rcpp\n",
      "rstanarm (Version 2.13.1, packaged: 2016-11-20 16:59:31 UTC)\n",
      "- Do not expect the default priors to remain the same in future rstanarm versions.\n",
      "Thus, R scripts should specify priors explicitly, even if they are just the defaults.\n",
      "- For execution on a local, multicore CPU with excess RAM we recommend calling\n",
      "options(mc.cores = parallel::detectCores())\n"
     ]
    }
   ],
   "source": [
    "library(rstanarm)"
   ]
  },
  {
   "cell_type": "code",
   "execution_count": 6,
   "metadata": {
    "collapsed": true
   },
   "outputs": [],
   "source": [
    "options(mc.cores = parallel::detectCores())"
   ]
  },
  {
   "cell_type": "code",
   "execution_count": 7,
   "metadata": {
    "collapsed": false
   },
   "outputs": [
    {
     "data": {
      "text/plain": [
       "y_tilde\n",
       "   0    1 \n",
       "8633 1367 "
      ]
     },
     "metadata": {},
     "output_type": "display_data"
    }
   ],
   "source": [
    "y_tilde <- with(training, rbinom(nrow(training), size = 1, \n",
    "                                prob = ifelse(emp_length == 0, 0.5, 0.1)))\n",
    "table(y_tilde)"
   ]
  },
  {
   "cell_type": "code",
   "execution_count": 8,
   "metadata": {
    "collapsed": true
   },
   "outputs": [],
   "source": [
    "post_sim <- stan_glm(y_tilde ~ I(training$emp_length != 0), \n",
    "                     family = binomial(link = \"logit\"),\n",
    "                     prior = normal(), prior_intercept = normal())"
   ]
  },
  {
   "cell_type": "code",
   "execution_count": 9,
   "metadata": {
    "collapsed": true
   },
   "outputs": [],
   "source": [
    "post <- stan_glm(y ~ log(loan_amnt) + term + home_ownership +\n",
    "                   log(annual_inc) + I(emp_length != 0), \n",
    "                 family = binomial(link = \"logit\"), data = training,\n",
    "                 prior = normal(), prior_intercept = normal(), QR = TRUE)"
   ]
  },
  {
   "cell_type": "code",
   "execution_count": 10,
   "metadata": {
    "collapsed": false
   },
   "outputs": [
    {
     "data": {},
     "metadata": {},
     "output_type": "display_data"
    },
    {
     "ename": "ERROR",
     "evalue": "Error in grid.Call(L_textBounds, as.graphicsAnnot(x$label), x$x, x$y, : X11 font -*-times-%s-%s-*-*-%d-*-*-*-*-*-*-*, face 2 at size 10 could not be loaded\n",
     "output_type": "error",
     "traceback": [
      "Error in grid.Call(L_textBounds, as.graphicsAnnot(x$label), x$x, x$y, : X11 font -*-times-%s-%s-*-*-%d-*-*-*-*-*-*-*, face 2 at size 10 could not be loaded\nTraceback:\n"
     ]
    },
    {
     "data": {
      "text/plain": [
       "plot without title"
      ]
     },
     "metadata": {},
     "output_type": "display_data"
    }
   ],
   "source": [
    "include <- c(\"log(loan_amnt)\", \"term 60 months\", \"home_ownershipOWN\",\n",
    "              \"home_ownershipRENT\", \"log(annual_inc)\", \"I(emp_length != 0)TRUE\")\n",
    "plot(post, prob = 0.80, pars = include)"
   ]
  },
  {
   "cell_type": "code",
   "execution_count": null,
   "metadata": {
    "collapsed": false
   },
   "outputs": [
    {
     "name": "stderr",
     "output_type": "stream",
     "text": [
      "\n",
      "Creating shinystan object...\n",
      "\n",
      "Hang on... preparing graphical posterior predictive checks for rstanarm model.\n",
      "See help('shinystan', 'rstanarm') for how to disable this feature.\n",
      "Warning message in pp_check.stanreg(object = structure(list(coefficients = structure(c(3.61200811704919, :\n",
      "“Argument 'check' is deprecated. Specify 'plotfun' instead. In future versions the 'check' argument will be removed.”Warning message in pp_check.stanreg(object = structure(list(coefficients = structure(c(3.61200811704919, :\n",
      "“Argument 'check' is deprecated. Specify 'plotfun' instead. In future versions the 'check' argument will be removed.”Warning message in pp_check.stanreg(object = structure(list(coefficients = structure(c(3.61200811704919, :\n",
      "“Argument 'check' is deprecated. Specify 'plotfun' instead. In future versions the 'check' argument will be removed.”Warning message in pp_check.stanreg(object = structure(list(coefficients = structure(c(3.61200811704919, :\n",
      "“Argument 'check' is deprecated. Specify 'plotfun' instead. In future versions the 'check' argument will be removed.”Warning message in pp_check.stanreg(object = structure(list(coefficients = structure(c(3.61200811704919, :\n",
      "“Argument 'check' is deprecated. Specify 'plotfun' instead. In future versions the 'check' argument will be removed.”Warning message in pp_check.stanreg(object = structure(list(coefficients = structure(c(3.61200811704919, :\n",
      "“Argument 'check' is deprecated. Specify 'plotfun' instead. In future versions the 'check' argument will be removed.”Warning message in pp_check.stanreg(object = structure(list(coefficients = structure(c(3.61200811704919, :\n",
      "“Argument 'check' is deprecated. Specify 'plotfun' instead. In future versions the 'check' argument will be removed.”Warning message in pp_check.stanreg(object = structure(list(coefficients = structure(c(3.61200811704919, :\n",
      "“Argument 'check' is deprecated. Specify 'plotfun' instead. In future versions the 'check' argument will be removed.”\n",
      "Launching ShinyStan interface... for large models this  may take some time.\n",
      "Loading required package: shiny\n",
      "\n",
      "Listening on http://127.0.0.1:4856\n"
     ]
    }
   ],
   "source": [
    "launch_shinystan(post)"
   ]
  },
  {
   "cell_type": "code",
   "execution_count": 12,
   "metadata": {
    "collapsed": true
   },
   "outputs": [],
   "source": [
    "help(launch_shinystan)"
   ]
  },
  {
   "cell_type": "code",
   "execution_count": 13,
   "metadata": {
    "collapsed": false
   },
   "outputs": [
    {
     "name": "stderr",
     "output_type": "stream",
     "text": [
      "\n",
      "Drawing from prior...\n"
     ]
    },
    {
     "data": {},
     "metadata": {},
     "output_type": "display_data"
    },
    {
     "data": {
      "image/png": "[encoded data removed]",
      "text/plain": [
       "plot without title"
      ]
     },
     "metadata": {},
     "output_type": "display_data"
    }
   ],
   "source": [
    "posterior_vs_prior(post, prob = 0.50, regex_pars = \"^[h]\")"
   ]
  },
  {
   "cell_type": "code",
   "execution_count": 14,
   "metadata": {
    "collapsed": true
   },
   "outputs": [],
   "source": [
    "ppd <- posterior_predict(post, newdata = testing, draws = 500)\n",
    "profit <- sapply(1:ncol(ppd), FUN = function(i) {\n",
    "  ifelse(ppd[,i] == 1, -testing$loan_amnt[i], testing$installment[i] *\n",
    "           ifelse(testing$term[i] == \"36 months\", 36, 60) -\n",
    "         testing$loan_amnt[i])\n",
    "})"
   ]
  },
  {
   "cell_type": "code",
   "execution_count": 15,
   "metadata": {
    "collapsed": false
   },
   "outputs": [
    {
     "ename": "ERROR",
     "evalue": "Error in grDevices::replayPlot(obj): X11 font -adobe-helvetica-%s-%s-*-*-%d-*-*-*-*-*-*-*, face 2 at size 14 could not be loaded\n",
     "output_type": "error",
     "traceback": [
      "Error in grDevices::replayPlot(obj): X11 font -adobe-helvetica-%s-%s-*-*-%d-*-*-*-*-*-*-*, face 2 at size 14 could not be loaded\nTraceback:\n"
     ]
    },
    {
     "data": {
      "text/plain": [
       "Plot with title “Testing Dataset”"
      ]
     },
     "metadata": {},
     "output_type": "display_data"
    }
   ],
   "source": [
    "par(mar = c(5,4,1,1), las = 1)\n",
    "hist(rowSums(profit) / sum(testing$loan_amnt), prob = TRUE, main = \"Testing Dataset\", \n",
    "     xlab = \"Profit Margin\")"
   ]
  },
  {
   "cell_type": "code",
   "execution_count": 16,
   "metadata": {
    "collapsed": false
   },
   "outputs": [
    {
     "data": {
      "text/plain": [
       "Computed from 4000 by 10000 log-likelihood matrix\n",
       "\n",
       "         Estimate    SE\n",
       "elpd_loo  -4117.3  60.8\n",
       "p_loo         6.5   0.2\n",
       "looic      8234.5 121.7\n",
       "\n",
       "All Pareto k estimates OK (k < 0.5)"
      ]
     },
     "metadata": {},
     "output_type": "display_data"
    }
   ],
   "source": [
    "post2 <- update(post, formula. = . ~ . - I(emp_length != 0))\n",
    "loo(post)"
   ]
  },
  {
   "cell_type": "code",
   "execution_count": 17,
   "metadata": {
    "collapsed": false
   },
   "outputs": [
    {
     "data": {
      "text/plain": [
       "Computed from 4000 by 10000 log-likelihood matrix\n",
       "\n",
       "         Estimate    SE\n",
       "elpd_loo  -4116.4  60.8\n",
       "p_loo         5.6   0.1\n",
       "looic      8232.7 121.6\n",
       "\n",
       "All Pareto k estimates OK (k < 0.5)"
      ]
     },
     "metadata": {},
     "output_type": "display_data"
    }
   ],
   "source": [
    "loo(post2)\n"
   ]
  },
  {
   "cell_type": "code",
   "execution_count": null,
   "metadata": {
    "collapsed": true
   },
   "outputs": [],
   "source": []
  }
 ],
 "metadata": {
  "anaconda-cloud": {},
  "kernelspec": {
   "display_name": "R",
   "language": "R",
   "name": "ir"
  },
  "language_info": {
   "codemirror_mode": "r",
   "file_extension": ".r",
   "mimetype": "text/x-r-source",
   "name": "R",
   "pygments_lexer": "r",
   "version": "3.3.1"
  }
 },
 "nbformat": 4,
 "nbformat_minor": 1
}
